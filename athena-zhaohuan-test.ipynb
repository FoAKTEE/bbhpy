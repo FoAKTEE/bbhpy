{
 "cells": [
  {
   "cell_type": "code",
   "execution_count": 3,
   "metadata": {},
   "outputs": [],
   "source": [
    "%load_ext autoreload\n",
    "%autoreload 2\n",
    "\n",
    "import os\n",
    "import glob\n",
    "import pathlib\n",
    "import sys\n",
    "import argparse\n",
    "import warnings\n",
    "import h5py\n",
    "import numpy as np\n",
    "import yt\n",
    "import matplotlib\n",
    "import time\n",
    "import scipy\n",
    "import matplotlib.pyplot as plt\n",
    "import matplotlib.colors as colors\n",
    "import matplotlib.patches as mpatches\n",
    "import matplotlib.ticker as mticker\n",
    "from matplotlib import rcParams\n",
    "import multiprocessing\n",
    "from multiprocessing import Process, Lock, Array\n",
    "\n",
    "sys.path.append(\"/Users/hyw/erm/ppscript/vis/python/\")\n",
    "import bin_convert as bc\n",
    "\n",
    "\n",
    "plt.style.use('ncr-paper.mplstyle')\n",
    "# plt.rcParams.update({\n",
    "#     \"text.usetex\": True,\n",
    "#     \"font.family\": \"sans-serif\",\n",
    "#     \"font.sans-serif\": [\"Computer Modern Sans Serif\"]})\n",
    "\n",
    "from pathlib import Path"
   ]
  },
  {
   "cell_type": "code",
   "execution_count": null,
   "metadata": {},
   "outputs": [],
   "source": [
    "import sys\n",
    "sys.path.append('../')\n",
    "\n",
    "from athenaresearch import *"
   ]
  },
  {
   "cell_type": "code",
   "execution_count": null,
   "metadata": {},
   "outputs": [],
   "source": [
    "from athenaresearch.athenakit.athena_data import AthenaData"
   ]
  },
  {
   "cell_type": "code",
   "execution_count": null,
   "metadata": {},
   "outputs": [],
   "source": [
    "from athenaresearch.python.athena_data import AthenaBinary"
   ]
  },
  {
   "cell_type": "code",
   "execution_count": null,
   "metadata": {},
   "outputs": [],
   "source": [
    "exfile = '/Users/hyw/Desktop/ERm/athenak-erm/build-mdisk/src/mhdtest/bin/cbd.mhd_w_bcc.00720.bin'"
   ]
  },
  {
   "cell_type": "code",
   "execution_count": null,
   "metadata": {},
   "outputs": [],
   "source": [
    "tst = AthenaBinary(path=exfile,)"
   ]
  },
  {
   "cell_type": "code",
   "execution_count": null,
   "metadata": {},
   "outputs": [],
   "source": [
    "tst.load_binary(filename=exfile)\n",
    "# tst.plot_phase(varname='dens',save=True)"
   ]
  },
  {
   "cell_type": "code",
   "execution_count": null,
   "metadata": {},
   "outputs": [],
   "source": [
    "tst.get_data(var='dens',level=5)"
   ]
  },
  {
   "cell_type": "code",
   "execution_count": null,
   "metadata": {},
   "outputs": [],
   "source": [
    "tst.set_slice()"
   ]
  },
  {
   "cell_type": "code",
   "execution_count": null,
   "metadata": {},
   "outputs": [],
   "source": [
    "tst.plot_snapshot()"
   ]
  },
  {
   "cell_type": "code",
   "execution_count": null,
   "metadata": {},
   "outputs": [],
   "source": [
    "tst.plot_phase(varname='dens',save=True)"
   ]
  },
  {
   "cell_type": "code",
   "execution_count": null,
   "metadata": {},
   "outputs": [],
   "source": [
    "\n",
    "\n",
    "__init__\n",
    "load_binary\n",
    "_init_from_raw\n",
    "save_hdf5\n",
    "load_hdf5\n",
    "_init_from_dic\n",
    "init\n",
    "config\n",
    "_init_header\n",
    "header\n",
    "set_coord\n",
    "config_data\n",
    "add_data\n",
    "data\n",
    "get_coord\n",
    "get_data\n",
    "set_hist\n",
    "set_radial\n",
    "get_slice_coord\n",
    "set_slice\n",
    "get_region\n",
    "set_dist\n",
    "set_dist2d\n",
    "plot_snapshot\n",
    "streamplot\n",
    "plot_phase\n",
    "savefig\n",
    "plot_snapshots\n",
    "get_data_new_coord\n",
    "fft_comp\n",
    "get_phi_averaged\n",
    "get_spectrum\n",
    "set_spectrum"
   ]
  },
  {
   "cell_type": "code",
   "execution_count": null,
   "metadata": {},
   "outputs": [],
   "source": [
    "AthenaData.load_hdf5(self,filename='/Users/hyw/Desktop/ERm/athenak-erm/build-mdisk/src/mhdtest/bin/cbd.mhd_w_bcc.00000.athdf')"
   ]
  },
  {
   "cell_type": "code",
   "execution_count": null,
   "metadata": {},
   "outputs": [],
   "source": []
  },
  {
   "cell_type": "code",
   "execution_count": null,
   "metadata": {},
   "outputs": [],
   "source": []
  },
  {
   "cell_type": "markdown",
   "metadata": {},
   "source": []
  },
  {
   "cell_type": "code",
   "execution_count": 2,
   "metadata": {},
   "outputs": [
    {
     "name": "stdout",
     "output_type": "stream",
     "text": [
      "/Users/hyw/Desktop/ERm/athenak-erm/build-mdisk/src/mhdtest/bin/cbd.mhd_w_bcc.02380.bin\n",
      "/Users/hyw/Desktop/ERm/athenak-erm/build-mdisk/src/mhdtest/bin/cbd.mhd_w_bcc.02550.bin\n",
      "/Users/hyw/Desktop/ERm/athenak-erm/build-mdisk/src/mhdtest/bin/cbd.mhd_w_bcc.02020.bin\n",
      "/Users/hyw/Desktop/ERm/athenak-erm/build-mdisk/src/mhdtest/bin/cbd.mhd_w_bcc.02140.bin\n",
      "/Users/hyw/Desktop/ERm/athenak-erm/build-mdisk/src/mhdtest/bin/cbd.mhd_w_bcc.02430.bin\n"
     ]
    },
    {
     "ename": "KeyboardInterrupt",
     "evalue": "",
     "output_type": "error",
     "traceback": [
      "\u001b[0;31m---------------------------------------------------------------------------\u001b[0m",
      "\u001b[0;31mKeyboardInterrupt\u001b[0m                         Traceback (most recent call last)",
      "Cell \u001b[0;32mIn[2], line 11\u001b[0m\n\u001b[1;32m      9\u001b[0m athdf_fname \u001b[38;5;241m=\u001b[39m binary_fname\u001b[38;5;241m.\u001b[39mreplace(\u001b[38;5;124m\"\u001b[39m\u001b[38;5;124m.bin\u001b[39m\u001b[38;5;124m\"\u001b[39m, \u001b[38;5;124m\"\u001b[39m\u001b[38;5;124m.athdf\u001b[39m\u001b[38;5;124m\"\u001b[39m)\n\u001b[1;32m     10\u001b[0m xdmf_fname \u001b[38;5;241m=\u001b[39m athdf_fname \u001b[38;5;241m+\u001b[39m \u001b[38;5;124m\"\u001b[39m\u001b[38;5;124m.xdmf\u001b[39m\u001b[38;5;124m\"\u001b[39m\n\u001b[0;32m---> 11\u001b[0m filedata \u001b[38;5;241m=\u001b[39m \u001b[43mbc\u001b[49m\u001b[38;5;241;43m.\u001b[39;49m\u001b[43mread_binary\u001b[49m\u001b[43m(\u001b[49m\u001b[43mbinary_fname\u001b[49m\u001b[43m)\u001b[49m\n",
      "File \u001b[0;32m~/erm/ppscript/vis/python/bin_convert.py:206\u001b[0m, in \u001b[0;36mread_binary\u001b[0;34m(filename)\u001b[0m\n\u001b[1;32m    202\u001b[0m mb_logical\u001b[38;5;241m.\u001b[39mappend(np\u001b[38;5;241m.\u001b[39marray(struct\u001b[38;5;241m.\u001b[39munpack(\u001b[38;5;124m'\u001b[39m\u001b[38;5;124m@4i\u001b[39m\u001b[38;5;124m'\u001b[39m, fp\u001b[38;5;241m.\u001b[39mread(\u001b[38;5;241m16\u001b[39m))))\n\u001b[1;32m    203\u001b[0m mb_geometry\u001b[38;5;241m.\u001b[39mappend(np\u001b[38;5;241m.\u001b[39marray(struct\u001b[38;5;241m.\u001b[39munpack(\u001b[38;5;124m'\u001b[39m\u001b[38;5;124m=6\u001b[39m\u001b[38;5;124m'\u001b[39m\u001b[38;5;241m+\u001b[39mlocfmt,\n\u001b[1;32m    204\u001b[0m                             fp\u001b[38;5;241m.\u001b[39mread(\u001b[38;5;241m6\u001b[39m\u001b[38;5;241m*\u001b[39mlocsizebytes))))\n\u001b[0;32m--> 206\u001b[0m data \u001b[38;5;241m=\u001b[39m np\u001b[38;5;241m.\u001b[39marray(struct\u001b[38;5;241m.\u001b[39munpack(\u001b[38;5;124mf\u001b[39m\u001b[38;5;124m\"\u001b[39m\u001b[38;5;124m=\u001b[39m\u001b[38;5;132;01m{\u001b[39;00mnx1_out\u001b[38;5;241m*\u001b[39mnx2_out\u001b[38;5;241m*\u001b[39mnx3_out\u001b[38;5;241m*\u001b[39mn_vars\u001b[38;5;132;01m}\u001b[39;00m\u001b[38;5;124m\"\u001b[39m \u001b[38;5;241m+\u001b[39m varfmt,\n\u001b[1;32m    207\u001b[0m                               fp\u001b[38;5;241m.\u001b[39mread(varsizebytes \u001b[38;5;241m*\u001b[39m\n\u001b[1;32m    208\u001b[0m                                       nx1_out\u001b[38;5;241m*\u001b[39mnx2_out\u001b[38;5;241m*\u001b[39mnx3_out\u001b[38;5;241m*\u001b[39mn_vars)))\n\u001b[1;32m    209\u001b[0m data \u001b[38;5;241m=\u001b[39m data\u001b[38;5;241m.\u001b[39mreshape(nvars, nx3_out, nx2_out, nx1_out)\n\u001b[1;32m    210\u001b[0m \u001b[38;5;28;01mfor\u001b[39;00m vari, var \u001b[38;5;129;01min\u001b[39;00m \u001b[38;5;28menumerate\u001b[39m(var_list):\n",
      "\u001b[0;31mKeyboardInterrupt\u001b[0m: "
     ]
    }
   ],
   "source": [
    "directory_path = Path('/Users/hyw/Desktop/ERm/athenak-erm/build-mdisk/src/mhdtest/bin/')\n",
    "directory_path = Path('/Users/hyw/Desktop/ERm/athenak-erm/build-mdisk/src/mhdtest/bin/')\n",
    "extension = '.bin'\n",
    "\n",
    "for file_path in directory_path.iterdir():\n",
    "    if file_path.is_file() and file_path.suffix == extension:\n",
    "        print(file_path)\n",
    "        binary_fname = str(file_path)\n",
    "        athdf_fname = binary_fname.replace(\".bin\", \".athdf\")\n",
    "        xdmf_fname = athdf_fname + \".xdmf\"\n",
    "        filedata = bc.read_binary(binary_fname)\n"
   ]
  },
  {
   "cell_type": "code",
   "execution_count": 44,
   "metadata": {},
   "outputs": [],
   "source": [
    "import sys\n",
    "sys.path.append(\"/Users/hyw/erm/CodeComp/CodeComp-Cartesian/vis/python/\")\n",
    "\n",
    "import athena_read\n",
    "\n",
    "tstathdf = '/Users/hyw/Desktop/ERM/athenak-erm/build-mdisk/src/mhdtest/bin/cbd.mhd_w_bcc.02330.athdf'\n",
    "# tstathdf = '/Users/hyw/24.6.1-test/cbd.mhd_w_bcc.00008.athdf'\n",
    "# tstathdf = '/Users/hyw/athenak/hydro-test/src/testmb/lowreso/cbd.mhd_w_bcc.00215.athdf'"
   ]
  },
  {
   "cell_type": "code",
   "execution_count": 45,
   "metadata": {},
   "outputs": [],
   "source": [
    "Rfig=20.0\n",
    "tst_athdf = athena_read.athdf(filename=tstathdf,x1_min=-Rfig,x1_max=Rfig, x2_min=-Rfig, x2_max=Rfig, x3_min=-Rfig, x3_max=Rfig)\n",
    "tst_athdf.keys()"
   ]
  },
  {
   "cell_type": "code",
   "execution_count": 47,
   "metadata": {},
   "outputs": [],
   "source": [
    "tst = tst_athdf\n",
    "\n",
    "xdat = tst['x1v']\n",
    "ydat = tst['x2v']\n",
    "zdat = tst['x3v']\n",
    "dens = tst['dens']\n",
    "eint = tst['eint']\n",
    "bcc1 = tst['bcc1']\n",
    "bcc2 = tst['bcc2']\n",
    "bcc3 = tst['bcc3']\n",
    "vx = tst['velx']\n",
    "vy = tst['vely']\n",
    "vz = tst['velz']\n",
    "\n",
    "z, y, x = np.meshgrid(zdat, ydat, xdat, indexing='ij')"
   ]
  },
  {
   "cell_type": "code",
   "execution_count": 8,
   "metadata": {},
   "outputs": [],
   "source": [
    "def SQR(x):\n",
    "    return np.square(x)\n",
    "gamma=5.0/3.0\n",
    "beta = 2.0*(eint*(gamma-1.0))/(SQR(bcc1)+SQR(bcc2)+SQR(bcc3))"
   ]
  },
  {
   "cell_type": "code",
   "execution_count": 49,
   "metadata": {},
   "outputs": [
    {
     "data": {
      "image/png": "[encoded data removed]",
      "text/plain": [
       "<Figure size 1600x1600 with 2 Axes>"
      ]
     },
     "metadata": {},
     "output_type": "display_data"
    }
   ],
   "source": [
    "Rplot=2.5\n",
    "Nint = 512\n",
    "\n",
    "fig, ax = plt.subplots(1, 1, figsize=(8, 8))\n",
    "ax.set_aspect('equal')\n",
    "\n",
    "# varname='vz'\n",
    "im = ax.pcolormesh(x[:,Nint,:],z[:,Nint,:], (vz[:,Nint,:]), norm=colors.SymLogNorm(linthresh=1e-1),cmap='RdBu_r', shading='auto')\n",
    "\n",
    "# varname='dens'\n",
    "# im = ax.pcolormesh(x[:,Nint,:],z[:,Nint,:], np.log10(dens[:,Nint,:]), norm=colors.SymLogNorm(linthresh=1e-1),cmap='RdBu_r', shading='auto')\n",
    "varname='dens'\n",
    "# im = ax.pcolormesh(x[Nint,:,:],y[Nint,:,:], np.log10(dens[Nint,:,:]), \n",
    "#                    vmin=-2,vmax=0.2,\n",
    "#                    cmap='RdBu_r', shading='auto',\n",
    "#                    )\n",
    "\n",
    "# varname='beta-vel'\n",
    "# im = ax.pcolormesh(x[512,:,:],y[512,:,:], np.log10(beta[512,:,:]), \n",
    "#                    vmin=-2.5,vmax=1,\n",
    "#                    cmap='RdBu_r', shading='auto',\n",
    "#                    )\n",
    "\n",
    "# # streamline plot fo the magnetic field \n",
    "# strm = ax.streamplot(x[512,:,:], y[512,:,:], vx[512,:,:], vy[512,:,:], color='k', linewidth=1.5, density=1.5)\n",
    "\n",
    "\n",
    "# varname='Bz-bcc'\n",
    "# im = ax.pcolormesh(x[:,512,:],z[:,512,:], (bcc3[:,512,:]), norm=colors.SymLogNorm(linthresh=1e-3),cmap='RdBu_r', shading='auto')\n",
    "# strm = ax.quiver(x[:,512,:],z[:,512,:], bcc1[:,512,:], bcc3[:,512,:],pivot='mid', color='k')\n",
    "\n",
    "ax.set_xlim(-Rplot,Rplot)\n",
    "ax.set_ylim(-Rplot,Rplot)\n",
    "ax.set_xlim(-Rplot,Rplot)\n",
    "ax.set_ylim(-Rplot,Rplot)\n",
    "ax.set_xlabel(r'$x$')\n",
    "ax.set_ylabel(r'$y$')\n",
    "\n",
    "# ax.set_title(r'$\\rho_{\\mathrm{mid}} \\ (x-y \\ \\mathrm{plane})$')\n",
    "# ax.set_title(r'$\\beta_{\\mathrm{mid}} \\ (x-y \\ \\mathrm{plane})$')\n",
    "\n",
    "ax.set_title(r'$B_{\\mathrm{xz}} \\ (x-z \\ \\mathrm{plane})$')\n",
    "\n",
    "from matplotlib.gridspec import GridSpec, GridSpecFromSubplotSpec\n",
    "from mpl_toolkits.axes_grid1 import make_axes_locatable\n",
    "        \n",
    "patch = mpatches.Patch(color=None,alpha=0.0, label=r'$\\mathrm{time}=23P_K$')\n",
    "ax.legend(handles=[patch],loc='upper right', fontsize=15, frameon=False)\n",
    "plt.colorbar(im)\n",
    "\n",
    "plt.savefig(f'test-23-{varname}.png',dpi=300)\n",
    "# im = ax.pcolormesh(x,y, np.log10(dens[:,:,0]), cmap='viridis', shading='auto')"
   ]
  },
  {
   "cell_type": "code",
   "execution_count": null,
   "metadata": {},
   "outputs": [],
   "source": []
  },
  {
   "cell_type": "code",
   "execution_count": null,
   "metadata": {},
   "outputs": [],
   "source": []
  },
  {
   "cell_type": "markdown",
   "metadata": {},
   "source": [
    "### File Converter: from binary to athdf"
   ]
  },
  {
   "cell_type": "code",
   "execution_count": null,
   "metadata": {
    "vscode": {
     "languageId": "shellscript"
    }
   },
   "outputs": [],
   "source": [
    "# binary_fname = \"/Users/hyw/erm/athena_bhl_test/test-2/torus.mhd_w_bcc.00198.bin\"\n",
    "from pathlib import Path\n",
    "\n",
    "# directory_path = Path('/Users/hyw/erm/athena_bhl_test/test/')\n",
    "# directory_path = Path('/Users/hyw/Desktop/ERM/athenak-erm/out/bin/')\n",
    "directory_path = Path('/Users/hyw/erm/athena_bhl_test/athenak_lbox-1/')\n",
    "directory_path = Path('/Users/hyw/Desktop/ERM/athenak-erm/build/src/output/bin/')\n",
    "directory_path = Path('/Users/hyw/Desktop/ERM/athenak-erm/build/src/1gpu_1orbit/bin/')\n",
    "directory_path = Path('/Users/hyw/erm/out_2gpu_1000/bin/')\n",
    "directory_path = Path('/Users/hyw/erm/out_2gpu_wenoz/bin/')\n",
    "directory_path = Path('/Users/hyw/erm/out_2gpu_llf/bin/')\n",
    "directory_path = Path('/Users/hyw/erm/rk3_wenoz_hllc_2d/bin/')\n",
    "directory_path = Path('/Users/hyw/erm/rk3_roe_low_2d/')\n",
    "directory_path = Path('/Users/hyw/erm/epsilon0.1/')\n",
    "directory_path = Path('/Users/hyw/Desktop/ERM/athenak-erm/build-scaf/src/out/bin/')\n",
    "directory_path = Path('/Users/hyw/Desktop/ERM/athenak-erm/build-scaf/src/anta-scaf/')\n",
    "directory_path = Path('/Users/hyw/Desktop/ERm/athenak-erm/build-cbd/src/bin/')\n",
    "directory_path = Path('/Users/hyw/Desktop/ERm/athenak-erm/build-mdisk/src/mhdtest/bin/')\n",
    "\n",
    "# directory_path = Path('/Users/hyw/Desktop/ERm/athenak-erm/build-mdisk/src/test/bin/')\n",
    "# directory_path = Path('/Users/hyw/Desktop/ERm/athenak-erm/build-mdisk/src/cbdi/bin/')\n",
    "# directory_path = Path('/Users/hyw/Desktop/ERm/athenak-erm/build-mdisk/src/cbd-23.3.6-crash_eos/bin/')\n",
    "# directory_path = Path('/Users/hyw/erm/data/mhdtest/')\n",
    "# directory_path = Path('/Users/hyw/erm/data/mhdtest-cpu/')\n",
    "# directory_path = Path('/Users/hyw/Desktop/ERm/athenak-erm/build-scaf/src/anta-scaf/bin/')\n",
    "\n",
    "# directory_path = Path('/Users/hyw/Desktop/ERM/athenak-erm/build-mdisk/src/cbd/bin')\n",
    "# directory_path = Path('/Users/hyw/Desktop/ERM/athenak-erm/build-3dhydro/src/cbd2d/bin')\n",
    "\n",
    "# directory_path = Path('/Users/hyw/Desktop/ERM/athenak-erm/2f/src/2f/bin')\n",
    "# directory_path = Path('/Users/hyw/Desktop/ERM/athenak/fm/src/fmtest/bin')\n",
    "\n",
    "# directory_path = Path('/Users/hyw/Desktop/ERM/scaf/scaf/src/test/bin')\n",
    "# directory_path = Path('/Users/hyw/erm/data/scaf/bin')\n",
    "\n",
    "extension = '.bin'\n",
    "\n",
    "for file_path in directory_path.iterdir():\n",
    "    if file_path.is_file() and file_path.suffix == extension:\n",
    "        print(file_path)\n",
    "        binary_fname = str(file_path)\n",
    "        athdf_fname = binary_fname.replace(\".bin\", \".athdf\")\n",
    "        xdmf_fname = athdf_fname + \".xdmf\"\n",
    "        filedata = bc.read_binary(binary_fname)\n",
    "        bc.write_athdf(athdf_fname, filedata)\n",
    "        bc.write_xdmf_for(xdmf_fname, os.path.basename(athdf_fname), filedata)"
   ]
  },
  {
   "cell_type": "code",
   "execution_count": null,
   "metadata": {},
   "outputs": [],
   "source": []
  },
  {
   "cell_type": "code",
   "execution_count": null,
   "metadata": {},
   "outputs": [],
   "source": []
  },
  {
   "cell_type": "code",
   "execution_count": null,
   "metadata": {},
   "outputs": [],
   "source": []
  },
  {
   "cell_type": "code",
   "execution_count": null,
   "metadata": {},
   "outputs": [],
   "source": []
  },
  {
   "cell_type": "code",
   "execution_count": null,
   "metadata": {},
   "outputs": [],
   "source": [
    "M_sun = 1.989e30\n",
    "G = 6.67430e-11\n",
    "c = 299792458\n",
    "AU = 149597870700\n",
    "pc = 3.085677581467192e16\n",
    "kpc = 3.085677581467192e19\n",
    "Mpsr = 1.4 * M_sun\n",
    "Tpsr = 2.4*60*60 \n",
    "\n",
    "T_inspiral = (5.0/16.0) *(4*np.pi**2)**1.333 * c**5 * G**(-0.666) * Tpsr**(8.0/3.0) * Mpsr**(-0.666)\n",
    "T_inspiral = T_inspiral/(60*60*24*365.25)\n",
    "#/(5.0/256.0)*(c**5/G**3)*(1.0/(np.pi**8))*(M_sun**2/Mpsr**2)*(1.0/AU)**4\n",
    "print(T_inspiral)"
   ]
  },
  {
   "cell_type": "code",
   "execution_count": null,
   "metadata": {},
   "outputs": [],
   "source": [
    "M_smbh = 1e8 * M_sun\n",
    "R_smbh = 2.0 * G * M_smbh / c**2\n",
    "f = np.sqrt(G*M_smbh/R_smbh**3)/np.pi\n",
    "\n",
    "D = 1e9*kpc\n",
    "v = np.sqrt(G*M_smbh/R_smbh)\n",
    "h = (G*M_smbh/c**2) * 1.0/D * (v/c)**2\n",
    "print (h)"
   ]
  },
  {
   "cell_type": "code",
   "execution_count": null,
   "metadata": {},
   "outputs": [],
   "source": [
    "M_un = c**3/(8**0.5*G*200*np.pi)\n",
    "print(M_un/M_sun)"
   ]
  },
  {
   "cell_type": "code",
   "execution_count": null,
   "metadata": {},
   "outputs": [],
   "source": [
    "R_un = 2*G*M_un/c**2\n",
    "Lgw = 8/5.0 * M_un**5/R_un**3 * 4.0*10**38\n",
    "\n",
    "D_ = 4e3*kpc\n",
    "LL = Lgw/(D_**2)\n",
    "print(LL)"
   ]
  },
  {
   "cell_type": "code",
   "execution_count": null,
   "metadata": {},
   "outputs": [],
   "source": [
    "# binary_fname = \"/Users/hyw/erm/athena_bhl_test/test-2/torus.mhd_w_bcc.00198.bin\"\n",
    "from pathlib import Path\n",
    "\n",
    "# directory_path = Path('/Users/hyw/erm/athena_bhl_test/test/')\n",
    "# directory_path = Path('/Users/hyw/Desktop/ERM/athenak-erm/out/bin/')\n",
    "directory_path = Path('/Users/hyw/erm/athena_bhl_test/athenak_lbox-1/')\n",
    "extension = '.bin'\n",
    "\n",
    "for file_path in directory_path.iterdir():\n",
    "    if file_path.is_file() and file_path.suffix == extension:\n",
    "        print(file_path)\n",
    "        binary_fname = str(file_path)\n",
    "        athdf_fname = binary_fname.replace(\".bin\", \".athdf\")\n",
    "        xdmf_fname = athdf_fname + \".xdmf\"\n",
    "        filedata = bc.read_binary(binary_fname)\n",
    "        bc.write_athdf(athdf_fname, filedata)\n",
    "        bc.write_xdmf_for(xdmf_fname, os.path.basename(athdf_fname), filedata)"
   ]
  },
  {
   "cell_type": "code",
   "execution_count": null,
   "metadata": {},
   "outputs": [],
   "source": [
    "MDMcc = 2.0*10**30.0*299792458**2\n",
    "mDMcc = 100*1.60218e-10\n",
    "print(mDMcc)\n",
    "N = MDMcc/mDMcc\n",
    "\n",
    "kpc = 3.086e+19\n",
    "R = 120*kpc\n",
    "sigma = 500*1000\n",
    "trelax = 1.33*N*R/sigma\n",
    "\n",
    "print(trelax)"
   ]
  },
  {
   "cell_type": "code",
   "execution_count": null,
   "metadata": {},
   "outputs": [],
   "source": [
    "data_dir = \"../BH_ac_gcc/plt06053\"\n",
    "# data_dir = \"../BH_ac_gcc/plt37695\"\n",
    "# data_dir = \"../BH_ac_gcc/chk04000\"\n",
    "# data_dir = \"/Users/hyw/Desktop/ERM/GReX/Problems/FUKA_BH_accretion/plt04404\"\n",
    "\n",
    "fields_test = [(\"RHOSTAR\"),(\"BX\"),(\"BY\"),(\"BZ\"),(\"EPS\")]\n",
    "#fields_all =[(\"RHOSTAR\") ,(\"TAUENERGY\") ,(\"STX\") ,(\"STY\") ,(\"STZ\") ,(\"YESTAR\") ,(\"SSTAR\") ,\n",
    "#         (\"BX\") ,(\"BY\") ,(\"BZ\") ,(\"PHI\") ,(\"ALPHA\") ,(\"BETAX\") ,(\"BETAY\") ,(\"BETAZ\") ,\n",
    "#        #  (\"W\") ,(\"GTXX\") ,(\"GTXY\") ,(\"GTXZ\") ,(\"GTYY\") ,(\"GTYZ\") ,(\"GTZZ\") ,\n",
    "#        #  (\"ATXX\") ,(\"ATXY\") ,(\"ATXZ\") ,(\"ATYY\") ,(\"ATYZ\") ,(\"ATZZ\") ,\n",
    "#         (\"TRK\") ,(\"RHOB\") ,(\"EPS\") ,(\"WVX\") ,(\"WVY\") ,(\"WVZ\") ,(\"YE\") ,(\"SENTROPY\")]\n",
    "\n"
   ]
  },
  {
   "cell_type": "code",
   "execution_count": null,
   "metadata": {},
   "outputs": [],
   "source": [
    "ds = yt.load(data_dir)\n",
    "\n",
    "max_level = ds.index.max_level\n",
    "\n",
    "ref = int(np.prod(ds.ref_factors[0:max_level]))\n",
    "low = ds.domain_left_edge\n",
    "dims = ds.domain_dimensions * ref\n",
    "nx, ny, nz = dims\n",
    "print(dims)\n",
    "\n",
    "cube = ds.covering_grid(max_level, left_edge=low, dims=dims, fields=fields_test)\n",
    "\n",
    "\n",
    "rho = cube[(\"RHOSTAR\")].d\n",
    "bx = cube[(\"BX\")].d\n",
    "by = cube[(\"BY\")].d\n",
    "bz = cube[(\"BZ\")].d\n",
    "eps = cube[(\"EPS\")].d\n",
    "# rho = cube[irho].d\n",
    "# u = cube[iu].d\n",
    "nx, ny, nz = rho.shape\n",
    "boxl=200\n",
    "\n",
    "fig, ax = plt.subplots(dpi=150)\n",
    "\n",
    "plt.P_colormesh(rho[:,:,nz//2], cmap=\"RdBu_r\",norm=colors.LogNorm())\n",
    "plt.xlim(nx//2-boxl, nx//2+boxl)\n",
    "plt.ylim(ny//2-boxl, ny//2+boxl)\n",
    "ax.set_aspect('equal')\n"
   ]
  },
  {
   "cell_type": "code",
   "execution_count": null,
   "metadata": {},
   "outputs": [],
   "source": []
  },
  {
   "cell_type": "code",
   "execution_count": null,
   "metadata": {},
   "outputs": [],
   "source": [
    "ds['STX']"
   ]
  },
  {
   "cell_type": "code",
   "execution_count": null,
   "metadata": {},
   "outputs": [],
   "source": [
    "\n",
    "region = ds.all_data()\n",
    "seed_points = [region.center]\n",
    "field = \"BZ\"  \n",
    "\n",
    "# Calculate streamlines\n",
    "# streamlines = yt.streamlines.Streamlines(ds, seed_points, field)\n",
    "\n",
    "# Plot the streamlines\n",
    "fig, ax = plt.subplots(figsize=(8, 8))\n",
    "\n",
    "plt.streamplot(x,y,bx,by)\n"
   ]
  },
  {
   "cell_type": "code",
   "execution_count": null,
   "metadata": {},
   "outputs": [],
   "source": []
  },
  {
   "cell_type": "code",
   "execution_count": null,
   "metadata": {},
   "outputs": [],
   "source": [
    "print(seed_points)"
   ]
  },
  {
   "cell_type": "code",
   "execution_count": null,
   "metadata": {},
   "outputs": [],
   "source": []
  },
  {
   "cell_type": "code",
   "execution_count": null,
   "metadata": {},
   "outputs": [],
   "source": []
  },
  {
   "cell_type": "code",
   "execution_count": null,
   "metadata": {},
   "outputs": [],
   "source": []
  },
  {
   "cell_type": "code",
   "execution_count": null,
   "metadata": {},
   "outputs": [],
   "source": []
  },
  {
   "cell_type": "code",
   "execution_count": null,
   "metadata": {},
   "outputs": [],
   "source": []
  },
  {
   "cell_type": "code",
   "execution_count": null,
   "metadata": {},
   "outputs": [],
   "source": []
  },
  {
   "cell_type": "code",
   "execution_count": null,
   "metadata": {},
   "outputs": [],
   "source": []
  },
  {
   "cell_type": "code",
   "execution_count": null,
   "metadata": {},
   "outputs": [],
   "source": [
    "ds = yt.load(data_dir)\n",
    "\n",
    "max_level = ds.index.max_level\n",
    "\n",
    "ref = int(np.prod(ds.ref_factors[0:max_level]))\n",
    "low = ds.domain_left_edge\n",
    "dims = ds.domain_dimensions * ref\n",
    "nx, ny, nz = dims\n",
    "print(dims)\n",
    "\n",
    "cube = ds.covering_grid(max_level, left_edge=low, dims=dims, fields=fields_test)\n",
    "\n",
    "rho = cube[(\"RHOSTAR\")].d\n",
    "# rho = cube[(\"RHOB\")].d\n",
    "# rho = cube[irho].d\n",
    "# u = cube[iu].d\n",
    "nx, ny, nz = rho.shape\n",
    "boxl=150\n",
    "\n",
    "fig, ax = plt.subplots(3,3,figsize=(12,13),dpi=150)\n",
    "\n",
    "for irow, boxl in enumerate([25,50,100]):\n",
    "    \n",
    "    ax[irow,0].P_colormesh(rho[:,:,nz//2], cmap=\"RdBu_r\",norm=colors.Normalize())\n",
    "    ax[irow,0].set_xlim(nx//2-boxl, nx//2+boxl)\n",
    "    ax[irow,0].set_ylim(ny//2-boxl, ny//2+boxl)\n",
    "    ax[irow,0].set_aspect('equal')\n",
    "\n",
    "    patch = mpatches.Patch(color=None, alpha=0.0,label=r'$xy-slice$')\n",
    "    ax[irow,0].legend(handles=[patch],frameon=False)\n",
    "    \n",
    "\n",
    "    ax[irow,1].P_colormesh(rho[:,ny//2,:], cmap=\"RdBu_r\",norm=colors.Normalize())\n",
    "    ax[irow,1].set_xlim(nx//2-boxl, nx//2+boxl)\n",
    "    ax[irow,1].set_ylim(ny//2-boxl, ny//2+boxl)\n",
    "    ax[irow,1].set_aspect('equal')\n",
    "\n",
    "    patch = mpatches.Patch(color=None, alpha=0.0,label=r'$xz-slice$')\n",
    "    ax[irow,1].legend(handles=[patch],frameon=False)\n",
    "\n",
    "    ax[irow,2].P_colormesh(rho[nx//2,:,:], cmap=\"RdBu_r\",norm=colors.Normalize())\n",
    "    ax[irow,2].set_xlim(nx//2-boxl, nx//2+boxl)\n",
    "    ax[irow,2].set_ylim(ny//2-boxl, ny//2+boxl)\n",
    "    ax[irow,2].set_aspect('equal')\n",
    "\n",
    "    patch = mpatches.Patch(color=None, alpha=0.0,label=r'$yz-slice$')\n",
    "    ax[irow,2].legend(handles=[patch],frameon=False)\n"
   ]
  },
  {
   "cell_type": "code",
   "execution_count": null,
   "metadata": {},
   "outputs": [],
   "source": [
    "outdir =\"./BHL-test/\"\n",
    "\n",
    "RRange = 5\n",
    "Rticks = [-4,-2,0,2,4]\n",
    "Rticklabels = [r'${%d}$'%i for ii, i in enumerate(Rticks)]\n",
    "\n",
    "from matplotlib.gridspec import GridSpec, GridSpecFromSubplotSpec\n",
    "# from mpl_toolkits.axes_grid1 import make_axes_locatable\n",
    "\n",
    "fig = plt.figure( figsize = (13.7,7.2),dpi=75 )\n",
    "gs = GridSpec(nrows=5, ncols=10, \n",
    "              wspace=0.00, hspace=0.00, \n",
    "              width_ratios=[0.08,0.45, 1.0, 1.0, 1.0, 1.0, 1.0, 1.0, 0.1, 0.08], \n",
    "              height_ratios=[1.0, 1.0, 1.0, 0.35, 0.08])\n",
    "\n",
    "ax_figDen = np.array([[fig.add_subplot(gs[j,i]) for ii,i in enumerate([2,3,4,5,6,7])] for jj,j in enumerate([0])])\n",
    "ax_figDen = ax_figDen.flatten()\n",
    "\n",
    "ax_figTemp = np.array([[fig.add_subplot(gs[j,i]) for ii,i in enumerate([2,3,4,5,6,7])] for jj,j in enumerate([1])])\n",
    "ax_figTemp = ax_figTemp.flatten()\n",
    "\n",
    "ax_figNu = np.array([[fig.add_subplot(gs[j,i]) for ii,i in enumerate([2,3,4,5,6,7])] for jj,j in enumerate([2])])\n",
    "ax_figNu = ax_figNu.flatten()\n",
    "\n",
    "ax_cbarDen = fig.add_subplot(gs[:-2,0])\n",
    "ax_cbarTemp = fig.add_subplot(gs[:-2,9])\n",
    "ax_cbarNu = fig.add_subplot(gs[4,2:-2])\n",
    "        \n",
    "fig_ID = 0\n",
    "\n",
    "for ibeta, beta in enumerate(betavalue):\n",
    "    \n",
    "    ID = \"t\"+str(run[0])+\"n\"+str(run[1])+\"b\"+str(beta)\n",
    "    FigID = \"t\"+str((int)(run[0]+1))+\"n\"+str((int)(run[1]+1))+\"b\"+str(beta)\n",
    "    \n",
    "    \n",
    "    x, y = np.meshgrid(x_dat, y_dat)\n",
    "    ax = np.array([ax_figDen[fig_ID],ax_figTemp[fig_ID],ax_figNu[fig_ID]])\n",
    "    print(fig_ID,end=' ')\n",
    "    fig_ID = fig_ID + 1\n",
    "    sys.stdout.flush()\n",
    "    \n",
    "    imDen = ax[0].P_colormesh(x,y,rho[ibeta,irun,...]  ,cmap='RdBu_r',norm=colors.LogNorm(vmin=vminDen, vmax=vmaxDen))\n",
    "    imTemp= ax[1].P_colormesh(x,y,temp[ibeta,irun,...] ,cmap='RdBu_r',norm=colors.LogNorm(vmin=vminTemp, vmax=vmaxTemp))\n",
    "    imNu  = ax[2].P_colormesh(x,y,Nu[ibeta,irun,...]   ,cmap='RdBu_r',norm=colors.LogNorm(vmin=vminNu, vmax=vmaxNu))\n",
    "    for i in range(3):\n",
    "        ax[i].set_xlim(-RRange,RRange)\n",
    "        ax[i].set_ylim(-RRange,RRange)\n",
    "        ax[i].set_xticks(Rticks)\n",
    "        ax[i].set_xticklabels([])\n",
    "        ax[i].set_yticks(Rticks)\n",
    "        ax[i].set_yticklabels([])\n",
    "        ax[i].set_aspect(\"equal\")\n",
    "\n",
    "for i in range((int)(len(ax_figNu))):        \n",
    "    ax_figNu[i].set_xticklabels(Rticklabels)\n",
    "    \n",
    "betatitle = [r'$\\beta={%.1f}$'%beta for ibeta, beta in enumerate(betavalue)]\n",
    "    \n",
    "for i in range(6):\n",
    "    ax_figDen[i].set_title(betatitle[i])\n",
    "    \n",
    "ax_figDen[0].set_ylabel(r'$\\Sigma$',fontsize=18)\n",
    "ax_figTemp[0].set_ylabel(r'$T$',fontsize=18)\n",
    "ax_figNu[0].set_ylabel(r'$\\nu$',fontsize=18)\n",
    "  \n",
    "cax = np.array([ax_cbarDen ,ax_cbarTemp ,ax_cbarNu])\n",
    "\n",
    "cbarDen  = plt.colorbar(imDen  ,cax=cax[0])\n",
    "cbarTemp = plt.colorbar(imTemp ,cax=cax[1])\n",
    "cbarNu   = plt.colorbar(imNu   ,cax=cax[2],orientation='horizontal')\n",
    "\n",
    "cax[0].set_title(r'$\\Sigma$',fontsize=18)\n",
    "cax[1].set_title(r'$T$',fontsize=18) \n",
    "cax[2].set_title(r'$\\nu$',fontsize=18)\n",
    "\n",
    "plt.savefig(outdir+\"r-Gallery-subset4.png\",dpi=550,bbox_inches = 'tight', pad_inches=0.05,transparent=True)"
   ]
  },
  {
   "cell_type": "code",
   "execution_count": null,
   "metadata": {},
   "outputs": [],
   "source": [
    "2.0*np.pi/(3.0*)"
   ]
  },
  {
   "cell_type": "code",
   "execution_count": null,
   "metadata": {},
   "outputs": [],
   "source": [
    "Mpc = 3.086e+22\n",
    "km = 1000\n",
    "yr = 365.25*24*60*60\n",
    "\n",
    "th = 1.0/67.74/km*Mpc/(yr)/1e9\n",
    "\n",
    "og = 0.6911\n",
    "om = 0.3089\n",
    "\n",
    "t1 = th/np.sqrt(og) * np.log((2)*(og/om) ** 1/2.0)*2.0/3.0\n",
    "\n",
    "print(t1)"
   ]
  },
  {
   "cell_type": "code",
   "execution_count": null,
   "metadata": {},
   "outputs": [],
   "source": []
  },
  {
   "cell_type": "markdown",
   "metadata": {},
   "source": [
    "### BHL stripping of SMBH accretion disk\n",
    "\n",
    "Ram pressure stripping follows $\\tau_{str}=\\frac{M}{\\dot M} \\sim \\frac{R D}{v_{rel}}$"
   ]
  },
  {
   "cell_type": "code",
   "execution_count": null,
   "metadata": {},
   "outputs": [],
   "source": [
    "Mpc = 3.086e+22\n",
    "pc = 3.086e+16\n",
    "\n",
    "km = 1000\n",
    "yr = 365.25*24*60*60\n",
    "M_sun = 1.989e30\n",
    "G = 6.67430e-8\n",
    "\n",
    "mp = 1.0\n",
    "\n",
    "th = 1.0/67.74/km*Mpc/(yr)/1e9\n",
    "\n",
    "og = 0.6911\n",
    "om = 0.3089\n",
    "\n",
    "t1 = th/np.sqrt(og) * np.log((2)*(og/om) ** 1/2.0)*2.0/3.0\n",
    "\n",
    "print(t1)"
   ]
  },
  {
   "cell_type": "code",
   "execution_count": null,
   "metadata": {},
   "outputs": [],
   "source": [
    "h = 0.05\n",
    "\n",
    "### env parameters\n",
    "rho_env = 1e6 * mp\n",
    "\n",
    "\n",
    "### Primary BH Parameters\n",
    "M_PBH = 1e8 * M_sun\n",
    "R_PBHdisk = 1.0 * pc\n",
    "rho_PBHdisk = 1e7 * mp\n",
    "M_PBHdisk = np.pi*R_PBHdisk**3*0.05*rho_PBHdisk\n",
    "\n",
    "### Secondary BH Parameters\n",
    "M_SBH = 1e6 * M_sun\n",
    "R_SBHdisk = np.array([0.01,0.1,1.0])* pc\n",
    "rho_SBHdisk = np.array([1e8,10**(7.5),1e7]) * mp\n",
    "M_SBHdisk = np.pi*R_SBHdisk**3*0.05*rho_SBHdisk\n",
    "\n",
    "### Orbital Parameters\n",
    "r_rot = np.array([10.0])*pc\n",
    "v_rot = np.sqrt(G*M_PBH/r_rot)\n",
    "\n",
    "\n",
    "tau_str = R_SBHdisk*(rho_SBHdisk/rho_env)/v_rot\n",
    "\n",
    "inclination = np.array([1.0/6.0, 2.0/6.0, 3.0/6.0])*np.pi\n",
    "\n",
    "for inc_ind, inc in enumerate(inclination):\n",
    "    for r_ind, r in enumerate(R_SBHdisk):\n",
    "      tau_inc = tau_str[r_ind]*np.sin(inc)\n",
    "      print('inc = {%.2f}'%(inc/np.pi), ' , r_s/pc = {%e}'%(r/pc),' ,tau_str = {%.2e}'%(tau_inc/yr))\n",
    "\n",
    "    print('')\n"
   ]
  },
  {
   "cell_type": "code",
   "execution_count": null,
   "metadata": {},
   "outputs": [],
   "source": [
    "oooor = 5.670374419 * 10.0**(-8) * 2.726**4\n",
    "oooom = "
   ]
  },
  {
   "cell_type": "code",
   "execution_count": null,
   "metadata": {},
   "outputs": [],
   "source": [
    "(1-1.0/np.sqrt(1101))/(1-1.0/np.sqrt(1001))"
   ]
  },
  {
   "cell_type": "code",
   "execution_count": null,
   "metadata": {},
   "outputs": [],
   "source": [
    "yr = 365.25*24*60*60\n",
    "\n",
    "5*1e50 /100*yr"
   ]
  },
  {
   "cell_type": "code",
   "execution_count": null,
   "metadata": {},
   "outputs": [],
   "source": [
    "Msun = 1.989e30\n",
    "5*10**48 *10**(-7)/ (0.5 * (500*1000)**2) / (Msun)"
   ]
  },
  {
   "cell_type": "code",
   "execution_count": null,
   "metadata": {},
   "outputs": [],
   "source": [
    "5*1e48 / 3.846e43"
   ]
  },
  {
   "cell_type": "code",
   "execution_count": null,
   "metadata": {},
   "outputs": [],
   "source": [
    "G = 6.67430e-11\n",
    "Mbh = 1e12/300.0*Msun\n",
    "Vgal = 500*1000\n",
    "pc = 3.085677581467192e16\n",
    "\n",
    "rc = G*Mbh/Vgal**2\n",
    "rc/pc\n",
    "\n",
    "c = 299792458\n",
    "E = 0.1*Mbh*c**2\n",
    "E"
   ]
  },
  {
   "cell_type": "code",
   "execution_count": null,
   "metadata": {},
   "outputs": [],
   "source": [
    "Rgal = 10000*pc\n",
    "(Rgal*Vgal**4)/2/G"
   ]
  },
  {
   "cell_type": "code",
   "execution_count": null,
   "metadata": {},
   "outputs": [],
   "source": [
    "5.96*100/1.44"
   ]
  },
  {
   "cell_type": "code",
   "execution_count": null,
   "metadata": {},
   "outputs": [],
   "source": [
    "Mgal = 1e12*Msun\n",
    "\n",
    "Mgal*c*G/(3000.0*2*Rgal*Vgal)"
   ]
  },
  {
   "cell_type": "code",
   "execution_count": null,
   "metadata": {},
   "outputs": [],
   "source": [
    "aa = 2*(6*10**(-2))**(-2.0/3.0)\n",
    "\n",
    "aa = 2\n",
    "1.5/100/(1+2)\n",
    "print('%e'%(2.5*10**11/(0.97/0.14)))"
   ]
  },
  {
   "cell_type": "code",
   "execution_count": null,
   "metadata": {},
   "outputs": [],
   "source": []
  },
  {
   "cell_type": "code",
   "execution_count": null,
   "metadata": {},
   "outputs": [],
   "source": []
  },
  {
   "cell_type": "code",
   "execution_count": null,
   "metadata": {},
   "outputs": [],
   "source": []
  },
  {
   "cell_type": "code",
   "execution_count": null,
   "metadata": {},
   "outputs": [],
   "source": []
  },
  {
   "cell_type": "code",
   "execution_count": null,
   "metadata": {},
   "outputs": [],
   "source": [
    "fig, ax = plt.subplots(1,4,figsize=(13,5),dpi=350)\n",
    "\n",
    "rad = np.linspace(0.1,10,100)\n",
    "z = np.linspace(-10,10,100)\n",
    "rad, z = np.meshgrid(rad,z)\n",
    "r = np.sqrt(rad**2+z**2)\n",
    "# theta = np.linspace(0,2*np.pi,100)\n",
    "# rad, theta = np.meshgrid(rad,theta)\n",
    "\n",
    "rho_fl = 1e-6\n",
    "Rad0 = 1.0\n",
    "rmin = 0.1\n",
    "p, q = -2.25, -0.5\n",
    "rho0 = rho_fl * (rad/Rad0)**p * (1/z**2) \n",
    "rho1 = rho_fl * (rmin/Rad0)**p * (1/z**2)\n",
    "rho2 = rho_fl * (rad/Rad0)**q * (1/z**2) * (5.0-2.0*(r-rmin)/rmin) * (1.0+4.0*(rmin-rad)/rmin)\n",
    "rho3 = rho_fl * (r/Rad0)**p + 1.33*rho_fl * (r/Rad0)**(-5.5)\n",
    "\n",
    "#   denfloor = dfloor * std::pow((r/cbd.rad0),(cbd.diskp)) + 1.33*dfloor * std::pow((rmin/cbd.rad0),(-5.5));\n",
    "ax[0].pcolormesh(rad,z,rho0,cmap='RdBu_r',norm=colors.LogNorm(vmin=1e-10, vmax=1e-4))\n",
    "ax[1].pcolormesh(rad,z,rho1,cmap='RdBu_r',norm=colors.LogNorm(vmin=1e-10, vmax=1e-4))\n",
    "ax[2].pcolormesh(rad,z,rho2,cmap='RdBu_r',norm=colors.LogNorm(vmin=1e-10, vmax=1e-4))\n",
    "ax[3].pcolormesh(rad,z,rho3,cmap='RdBu_r',norm=colors.LogNorm(vmin=1e-10, vmax=1e-4))\n",
    "\n",
    "# ax[0].colorbar()\n",
    "\n",
    "ax[0].set_aspect('equal')\n",
    "ax[1].set_aspect('equal')\n",
    "ax[2].set_aspect('equal')\n",
    "ax[3].set_aspect('equal')\n"
   ]
  },
  {
   "cell_type": "code",
   "execution_count": null,
   "metadata": {},
   "outputs": [],
   "source": []
  }
 ],
 "metadata": {
  "kernelspec": {
   "display_name": "test",
   "language": "python",
   "name": "python3"
  },
  "language_info": {
   "codemirror_mode": {
    "name": "ipython",
    "version": 3
   },
   "file_extension": ".py",
   "mimetype": "text/x-python",
   "name": "python",
   "nbconvert_exporter": "python",
   "pygments_lexer": "ipython3",
   "version": "3.11.7"
  }
 },
 "nbformat": 4,
 "nbformat_minor": 2
}
